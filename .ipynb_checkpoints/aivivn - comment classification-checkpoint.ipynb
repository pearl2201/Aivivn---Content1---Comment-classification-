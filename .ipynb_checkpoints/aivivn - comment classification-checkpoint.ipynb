{
 "cells": [
  {
   "cell_type": "code",
   "execution_count": 14,
   "metadata": {},
   "outputs": [],
   "source": [
    "# https://www.aivivn.com/contests/1\n",
    "# public score: 0.84596"
   ]
  },
  {
   "cell_type": "code",
   "execution_count": 1,
   "metadata": {},
   "outputs": [
    {
     "name": "stderr",
     "output_type": "stream",
     "text": [
      "Using TensorFlow backend.\n"
     ]
    }
   ],
   "source": [
    "import codecs\n",
    "import pandas as pd\n",
    "import numpy as np\n",
    "import re\n",
    "import matplotlib.pyplot as plt\n",
    "import seaborn as sns\n",
    "import keras"
   ]
  },
  {
   "cell_type": "code",
   "execution_count": 2,
   "metadata": {},
   "outputs": [],
   "source": [
    "sns.set(style=\"darkgrid\")\n",
    "plt.rcParams['figure.figsize'] = [10, 5]"
   ]
  },
  {
   "cell_type": "code",
   "execution_count": 3,
   "metadata": {},
   "outputs": [],
   "source": [
    "train_doc_file = codecs.open(\"train.crash\",'r','utf-8')\n",
    "train_doc = train_doc_file.read()\n",
    "train_doc_file.close()\n",
    "\n",
    "samples = re.findall('train_\\d{6}\\n\"[^\"]*\"\\n\\d',train_doc)\n",
    "\n",
    "rows_list = []\n",
    "\n",
    "for sample in samples:\n",
    "    rows_list.append([sample[:12],sample[13:-2].replace('\"',''),sample[-1]])\n",
    "    \n",
    "df = pd.DataFrame(rows_list,columns=['id', 'comment', 'label'])"
   ]
  },
  {
   "cell_type": "code",
   "execution_count": 4,
   "metadata": {},
   "outputs": [
    {
     "data": {
      "image/png": "[encoded data removed]",
      "text/plain": [
       "<Figure size 720x360 with 1 Axes>"
      ]
     },
     "metadata": {},
     "output_type": "display_data"
    }
   ],
   "source": [
    "# nhan xet 1: data khong bi qua chenh lech\n",
    "ax = sns.countplot(x=\"label\", data=df)"
   ]
  },
  {
   "cell_type": "code",
   "execution_count": 5,
   "metadata": {},
   "outputs": [
    {
     "data": {
      "text/html": [
       "<div>\n",
       "<style scoped>\n",
       "    .dataframe tbody tr th:only-of-type {\n",
       "        vertical-align: middle;\n",
       "    }\n",
       "\n",
       "    .dataframe tbody tr th {\n",
       "        vertical-align: top;\n",
       "    }\n",
       "\n",
       "    .dataframe thead th {\n",
       "        text-align: right;\n",
       "    }\n",
       "</style>\n",
       "<table border=\"1\" class=\"dataframe\">\n",
       "  <thead>\n",
       "    <tr style=\"text-align: right;\">\n",
       "      <th></th>\n",
       "      <th>id</th>\n",
       "      <th>comment</th>\n",
       "      <th>label</th>\n",
       "      <th>token</th>\n",
       "    </tr>\n",
       "  </thead>\n",
       "  <tbody>\n",
       "    <tr>\n",
       "      <th>0</th>\n",
       "      <td>train_000000</td>\n",
       "      <td>Dung dc sp tot cam on \\nshop Đóng gói sản phẩm...</td>\n",
       "      <td>0</td>\n",
       "      <td>dung dc sp tot cam on shop đóng gói sản phẩm đ...</td>\n",
       "    </tr>\n",
       "    <tr>\n",
       "      <th>1</th>\n",
       "      <td>train_000001</td>\n",
       "      <td>Chất lượng sản phẩm tuyệt vời . Son mịn nhưng...</td>\n",
       "      <td>0</td>\n",
       "      <td>chất lượng sản phẩm tuyệt vời  son mịn đánh mà...</td>\n",
       "    </tr>\n",
       "    <tr>\n",
       "      <th>2</th>\n",
       "      <td>train_000002</td>\n",
       "      <td>Chất lượng sản phẩm tuyệt vời nhưng k có hộp ...</td>\n",
       "      <td>0</td>\n",
       "      <td>chất lượng sản phẩm tuyệt vời k hộp k dây giày...</td>\n",
       "    </tr>\n",
       "    <tr>\n",
       "      <th>3</th>\n",
       "      <td>train_000003</td>\n",
       "      <td>:(( Mình hơi thất vọng 1 chút vì mình đã kỳ vọ...</td>\n",
       "      <td>1</td>\n",
       "      <td>mình hơi thất vọng 1 chút mình kỳ vọng cuốn...</td>\n",
       "    </tr>\n",
       "    <tr>\n",
       "      <th>4</th>\n",
       "      <td>train_000004</td>\n",
       "      <td>Lần trước mình mua áo gió màu hồng rất ok mà đ...</td>\n",
       "      <td>1</td>\n",
       "      <td>lần mình mua áo gió màu hồng ok đợt giao 2 áo ...</td>\n",
       "    </tr>\n",
       "  </tbody>\n",
       "</table>\n",
       "</div>"
      ],
      "text/plain": [
       "             id                                            comment label  \\\n",
       "0  train_000000  Dung dc sp tot cam on \\nshop Đóng gói sản phẩm...     0   \n",
       "1  train_000001   Chất lượng sản phẩm tuyệt vời . Son mịn nhưng...     0   \n",
       "2  train_000002   Chất lượng sản phẩm tuyệt vời nhưng k có hộp ...     0   \n",
       "3  train_000003  :(( Mình hơi thất vọng 1 chút vì mình đã kỳ vọ...     1   \n",
       "4  train_000004  Lần trước mình mua áo gió màu hồng rất ok mà đ...     1   \n",
       "\n",
       "                                               token  \n",
       "0  dung dc sp tot cam on shop đóng gói sản phẩm đ...  \n",
       "1  chất lượng sản phẩm tuyệt vời  son mịn đánh mà...  \n",
       "2  chất lượng sản phẩm tuyệt vời k hộp k dây giày...  \n",
       "3     mình hơi thất vọng 1 chút mình kỳ vọng cuốn...  \n",
       "4  lần mình mua áo gió màu hồng ok đợt giao 2 áo ...  "
      ]
     },
     "execution_count": 5,
     "metadata": {},
     "output_type": "execute_result"
    }
   ],
   "source": [
    "from underthesea import word_tokenize\n",
    "from nltk.stem.porter import PorterStemmer\n",
    "import string\n",
    "\n",
    "porter = PorterStemmer()\n",
    "\n",
    "stop_words =[x.strip() for x in  codecs.open(\"stop_words.txt\",'r','utf-8').read().split('\\n') ]\n",
    "table = str.maketrans('', '', string.punctuation)\n",
    "\n",
    "def parse_comments(text):\n",
    "    tokens = word_tokenize(text)\n",
    "    # convert to lower case\n",
    "    tokens = [w.lower() for w in tokens]\n",
    "    # remove punctuation from each word\n",
    "    stripped = [w.translate(table) for w in tokens]\n",
    "    # remove remaining tokens that are not alphabetic\n",
    "\n",
    "    words = [w for w in stripped if not w in stop_words]\n",
    "    return ' '.join(words)\n",
    "\n",
    "df[\"token\"] = df[\"comment\"].apply(lambda x: parse_comments(x))\n",
    "df.head()"
   ]
  },
  {
   "cell_type": "code",
   "execution_count": 6,
   "metadata": {},
   "outputs": [],
   "source": [
    "from sklearn.feature_extraction.text import TfidfVectorizer\n",
    "corpus  =  df[\"token\"].values\n",
    "vectorizer = TfidfVectorizer()\n",
    "X = vectorizer.fit(corpus)"
   ]
  },
  {
   "cell_type": "code",
   "execution_count": 7,
   "metadata": {},
   "outputs": [],
   "source": [
    "train_vector= X.transform(df[\"token\"])"
   ]
  },
  {
   "cell_type": "code",
   "execution_count": 8,
   "metadata": {},
   "outputs": [],
   "source": [
    "from sklearn.model_selection import train_test_split\n",
    "\n",
    "train_labels = df[\"label\"].values\n",
    "xtr,xval,ytr,yval = train_test_split(train_vector,train_labels,test_size=0.1)"
   ]
  },
  {
   "cell_type": "code",
   "execution_count": 9,
   "metadata": {},
   "outputs": [
    {
     "data": {
      "text/plain": [
       "0.8748395378690629"
      ]
     },
     "execution_count": 9,
     "metadata": {},
     "output_type": "execute_result"
    }
   ],
   "source": [
    "from sklearn.svm import LinearSVC\n",
    "l_svc = LinearSVC()\n",
    "l_svc.fit(xtr,ytr)\n",
    "l_svc.score(xval,yval)"
   ]
  },
  {
   "cell_type": "code",
   "execution_count": 11,
   "metadata": {},
   "outputs": [
    {
     "data": {
      "text/html": [
       "<div>\n",
       "<style scoped>\n",
       "    .dataframe tbody tr th:only-of-type {\n",
       "        vertical-align: middle;\n",
       "    }\n",
       "\n",
       "    .dataframe tbody tr th {\n",
       "        vertical-align: top;\n",
       "    }\n",
       "\n",
       "    .dataframe thead th {\n",
       "        text-align: right;\n",
       "    }\n",
       "</style>\n",
       "<table border=\"1\" class=\"dataframe\">\n",
       "  <thead>\n",
       "    <tr style=\"text-align: right;\">\n",
       "      <th></th>\n",
       "      <th>id</th>\n",
       "      <th>comment</th>\n",
       "      <th>token</th>\n",
       "    </tr>\n",
       "  </thead>\n",
       "  <tbody>\n",
       "    <tr>\n",
       "      <th>0</th>\n",
       "      <td>test_000000</td>\n",
       "      <td>Chưa dùng thử nên chưa biết</td>\n",
       "      <td>dùng thử biết</td>\n",
       "    </tr>\n",
       "    <tr>\n",
       "      <th>1</th>\n",
       "      <td>test_000001</td>\n",
       "      <td>Không đáng tiềnVì ngay đợt sale nên mới mua n...</td>\n",
       "      <td>đáng tiềnvì đợt sale mới mua sp sử dụng  nt tr...</td>\n",
       "    </tr>\n",
       "    <tr>\n",
       "      <th>2</th>\n",
       "      <td>test_000002</td>\n",
       "      <td>Cám ơn shop. Đóng gói sản phẩm rất đẹp và chắc...</td>\n",
       "      <td>cám ơn shop  đóng gói sản phẩm đẹp chắc chắn</td>\n",
       "    </tr>\n",
       "    <tr>\n",
       "      <th>3</th>\n",
       "      <td>test_000003</td>\n",
       "      <td>Vải đẹp.phom oki luôn.quá ưng</td>\n",
       "      <td>vải đẹp  phom oki luôn  quá ưng</td>\n",
       "    </tr>\n",
       "    <tr>\n",
       "      <th>4</th>\n",
       "      <td>test_000004</td>\n",
       "      <td>Chuẩn hàng đóng gói đẹp</td>\n",
       "      <td>chuẩn hàng đóng gói đẹp</td>\n",
       "    </tr>\n",
       "  </tbody>\n",
       "</table>\n",
       "</div>"
      ],
      "text/plain": [
       "            id                                            comment  \\\n",
       "0  test_000000                        Chưa dùng thử nên chưa biết   \n",
       "1  test_000001   Không đáng tiềnVì ngay đợt sale nên mới mua n...   \n",
       "2  test_000002  Cám ơn shop. Đóng gói sản phẩm rất đẹp và chắc...   \n",
       "3  test_000003                      Vải đẹp.phom oki luôn.quá ưng   \n",
       "4  test_000004                            Chuẩn hàng đóng gói đẹp   \n",
       "\n",
       "                                               token  \n",
       "0                                      dùng thử biết  \n",
       "1  đáng tiềnvì đợt sale mới mua sp sử dụng  nt tr...  \n",
       "2       cám ơn shop  đóng gói sản phẩm đẹp chắc chắn  \n",
       "3                    vải đẹp  phom oki luôn  quá ưng  \n",
       "4                            chuẩn hàng đóng gói đẹp  "
      ]
     },
     "execution_count": 11,
     "metadata": {},
     "output_type": "execute_result"
    }
   ],
   "source": [
    "test_doc_file = codecs.open(\"test.crash\",'r','utf-8')\n",
    "test_doc = test_doc_file.read()\n",
    "test_doc_file.close()\n",
    "\n",
    "samples = re.findall('test_\\d{6}\\n\"[^\"]*\"',test_doc)\n",
    "\n",
    "rows_list = []\n",
    "for sample in samples:\n",
    "    rows_list.append([sample[:11],sample[12:].replace('\"','')])\n",
    "\n",
    "df_test = pd.DataFrame(rows_list,columns=['id', 'comment'])\n",
    "df_test[\"token\"] = df_test[\"comment\"].apply(lambda x: parse_comments(x))\n",
    "\n",
    "test_features = X.transform(df_test[\"token\"])\n",
    "df_test.head()"
   ]
  },
  {
   "cell_type": "code",
   "execution_count": 12,
   "metadata": {},
   "outputs": [],
   "source": [
    "predict = l_svc.predict(test_features)"
   ]
  },
  {
   "cell_type": "code",
   "execution_count": 13,
   "metadata": {},
   "outputs": [],
   "source": [
    "result = []\n",
    "ids = df_test[\"id\"].values\n",
    "for i in range(len(predict)):\n",
    "    result.append([ids[i],predict[i]])\n",
    "df_result = pd.DataFrame(result,columns=['id', 'label'])\n",
    "df_result.to_csv('submission.csv', index=False)\n"
   ]
  },
  {
   "cell_type": "code",
   "execution_count": null,
   "metadata": {},
   "outputs": [],
   "source": []
  }
 ],
 "metadata": {
  "kernelspec": {
   "display_name": "Python 3",
   "language": "python",
   "name": "python3"
  },
  "language_info": {
   "codemirror_mode": {
    "name": "ipython",
    "version": 3
   },
   "file_extension": ".py",
   "mimetype": "text/x-python",
   "name": "python",
   "nbconvert_exporter": "python",
   "pygments_lexer": "ipython3",
   "version": "3.6.2"
  }
 },
 "nbformat": 4,
 "nbformat_minor": 2
}
